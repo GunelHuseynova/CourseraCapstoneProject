{
    "cells": [
        {
            "cell_type": "code",
            "execution_count": null,
            "metadata": {
                "collapsed": true
            },
            "outputs": [],
            "source": "BANKING SOLUTIONS FOR BUSINESSES\n\nPROBLEM/OPPORTUNITY: PEOPLE OFTEN USE FINANCIAL INSTITUTIONS FOR DIFFERENT PURPOSES. BANKS ARE ALSO VERY DEMANDED BY THE TOURISTS. IN TERMS OF PANDEMIC IN AZERBAIJAN THERE ARE RESTRICTED HOURS ALLOWED FOR CITIZENS BEING OUTSIDE, AND CITIZENS DO NOT HAVE ENOUGH TIME TO CHECK ALL THE BANKS AROUND TO GET THE REQUIRED SERVICES FOR THE OPTIMAL PRICE. \n\nIDEA: TO CREATE A LIST OF NEAREST BANKS WITH THE SERVICES REQUIRED TO THE CLIENT BASED ON HIS/HER LOCATION. DUE TO LONG LIST OF SERVICES PROVIDED BY BANKS THIS PARTICULAR PROJECT WILL BE FOCUSED ON LOAN OPERATIONS BASED ON THE LOAN LIMIT PROVIDED. \n\n\nHOW: \nMETHODOLOGY TO BE USED: GET THE LIST OF BANKS WITH THE LIMIT OF TOTAL LOAN AMOUNT OFFERED BY THE BANK. \nUSING THE CSV FILE WITH POSTAL CODES OF BANKS IDENTIFY THEIR GEO POSITIONS. \n\nCREATE A MAP WITH THE LOCATION OF THE BANKS. \n\nMERGE THE TABLES OF BANKS WITH THE DATA ON THE MAX ALLOWED LOAN AND THEIR GEOPOSITION. THE MERGGED TABLE TO SHOW THE MAP WITH THE BANKS AND ADDED DETAILS OF DATA REQUIRED\n\n\nUSING KMEANS CLUSTER THE BANKS AS PER THEIR LOCATION AND LOAN ALLOWANCE LIMIT \nCREATE A LIST OF CLOSEST AND MOST COMMON BANKS ON FOURSQUARE BASED ON THE MAX ALLOWED LOAN AMOUNT\nTEST THE CLUSTERS\n\nTO BE DELIVERED IN THE FORM OF PRESENTATION"
        }
    ],
    "metadata": {
        "kernelspec": {
            "display_name": "Python 3.6",
            "language": "python",
            "name": "python3"
        },
        "language_info": {
            "codemirror_mode": {
                "name": "ipython",
                "version": 3
            },
            "file_extension": ".py",
            "mimetype": "text/x-python",
            "name": "python",
            "nbconvert_exporter": "python",
            "pygments_lexer": "ipython3",
            "version": "3.6.9"
        }
    },
    "nbformat": 4,
    "nbformat_minor": 1
}